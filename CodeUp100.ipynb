{
 "cells": [
  {
   "cell_type": "markdown",
   "metadata": {},
   "source": [
    "# CodeUp 100 questions\n",
    "- https://codeup.kr/problem.php?id=6001"
   ]
  },
  {
   "cell_type": "code",
   "execution_count": 1,
   "metadata": {},
   "outputs": [
    {
     "name": "stdout",
     "output_type": "stream",
     "text": [
      "Hello\n"
     ]
    }
   ],
   "source": [
    "#1\n",
    "print(\"Hello\")"
   ]
  },
  {
   "cell_type": "code",
   "execution_count": 3,
   "metadata": {},
   "outputs": [
    {
     "name": "stdout",
     "output_type": "stream",
     "text": [
      "Hello World\n"
     ]
    }
   ],
   "source": [
    "#2\n",
    "print(\"Hello\", \"World\")"
   ]
  },
  {
   "cell_type": "code",
   "execution_count": 5,
   "metadata": {},
   "outputs": [
    {
     "name": "stdout",
     "output_type": "stream",
     "text": [
      "Hello\n",
      "World\n"
     ]
    }
   ],
   "source": [
    "#3\n",
    "print(\"Hello\\nWorld\")"
   ]
  },
  {
   "cell_type": "code",
   "execution_count": 6,
   "metadata": {},
   "outputs": [
    {
     "name": "stdout",
     "output_type": "stream",
     "text": [
      "'Hello'\n"
     ]
    }
   ],
   "source": [
    "#4\n",
    "print(\"'Hello'\")"
   ]
  },
  {
   "cell_type": "code",
   "execution_count": 9,
   "metadata": {},
   "outputs": [
    {
     "name": "stdout",
     "output_type": "stream",
     "text": [
      "\"Hello World\"\n"
     ]
    }
   ],
   "source": [
    "#5\n",
    "print('\"Hello World\"')"
   ]
  },
  {
   "cell_type": "code",
   "execution_count": 13,
   "metadata": {},
   "outputs": [
    {
     "name": "stdout",
     "output_type": "stream",
     "text": [
      "\"!@#$%^&*()'\n"
     ]
    }
   ],
   "source": [
    "#6\n",
    "print('\\\"!@#$%^&*()\\'')"
   ]
  },
  {
   "cell_type": "code",
   "execution_count": 17,
   "metadata": {},
   "outputs": [
    {
     "name": "stdout",
     "output_type": "stream",
     "text": [
      "\"C:\\Download\\'hello'.py\"\n"
     ]
    }
   ],
   "source": [
    "#7\n",
    "print('\\\"C:\\Download\\\\\\'hello\\'.py\\\"')"
   ]
  },
  {
   "cell_type": "code",
   "execution_count": 20,
   "metadata": {},
   "outputs": [
    {
     "name": "stdout",
     "output_type": "stream",
     "text": [
      "print(\"Hello\\nWorld\")\n"
     ]
    }
   ],
   "source": [
    "#8\n",
    "print(\"print(\\\"Hello\\\\nWorld\\\")\")"
   ]
  },
  {
   "cell_type": "code",
   "execution_count": 24,
   "metadata": {},
   "outputs": [
    {
     "name": "stdout",
     "output_type": "stream",
     "text": [
      "2\n",
      "2\n"
     ]
    }
   ],
   "source": [
    "#9\n",
    "c = input()\n",
    "print(c)"
   ]
  },
  {
   "cell_type": "code",
   "execution_count": 26,
   "metadata": {},
   "outputs": [
    {
     "name": "stdout",
     "output_type": "stream",
     "text": [
      "15\n",
      "15\n"
     ]
    }
   ],
   "source": [
    "#10\n",
    "n = input()\n",
    "n = int(n)\n",
    "print(n)"
   ]
  },
  {
   "cell_type": "code",
   "execution_count": 27,
   "metadata": {},
   "outputs": [
    {
     "name": "stdout",
     "output_type": "stream",
     "text": [
      "1.2\n",
      "1.2\n"
     ]
    }
   ],
   "source": [
    "#11\n",
    "f = input()\n",
    "f = float(f)\n",
    "print(f)"
   ]
  },
  {
   "cell_type": "code",
   "execution_count": 28,
   "metadata": {},
   "outputs": [
    {
     "name": "stdout",
     "output_type": "stream",
     "text": [
      "2\n",
      "3\n",
      "2\n",
      "3\n"
     ]
    }
   ],
   "source": [
    "#12\n",
    "a = input()\n",
    "b = input()\n",
    "a = int(a)\n",
    "b = int(b)\n",
    "print(a)\n",
    "print(b)"
   ]
  },
  {
   "cell_type": "code",
   "execution_count": 29,
   "metadata": {},
   "outputs": [
    {
     "name": "stdout",
     "output_type": "stream",
     "text": [
      "a\n",
      "b\n",
      "b\n",
      "a\n"
     ]
    }
   ],
   "source": [
    "#13\n",
    "c1 = input()\n",
    "c2 = input()\n",
    "print(c2)\n",
    "print(c1)"
   ]
  },
  {
   "cell_type": "code",
   "execution_count": 30,
   "metadata": {},
   "outputs": [
    {
     "name": "stdout",
     "output_type": "stream",
     "text": [
      "3.4\n",
      "3.4\n",
      "3.4\n",
      "3.4\n"
     ]
    }
   ],
   "source": [
    "#14\n",
    "f = input()\n",
    "f = float(f)\n",
    "print(f)\n",
    "print(f)\n",
    "print(f)"
   ]
  },
  {
   "cell_type": "code",
   "execution_count": 31,
   "metadata": {},
   "outputs": [
    {
     "name": "stdout",
     "output_type": "stream",
     "text": [
      "12 4\n",
      "12\n",
      "4\n"
     ]
    }
   ],
   "source": [
    "#15\n",
    "a, b = input().split()\n",
    "a = int(a)\n",
    "b = int(b)\n",
    "print(a)\n",
    "print(b)\n"
   ]
  },
  {
   "cell_type": "code",
   "execution_count": 35,
   "metadata": {},
   "outputs": [
    {
     "name": "stdout",
     "output_type": "stream",
     "text": [
      "a b\n",
      "b a\n"
     ]
    }
   ],
   "source": [
    "#16\n",
    "a, b = input().split()\n",
    "print(b, a)"
   ]
  },
  {
   "cell_type": "code",
   "execution_count": 37,
   "metadata": {},
   "outputs": [
    {
     "name": "stdout",
     "output_type": "stream",
     "text": [
      "4.5\n",
      "4.5 4.5 4.5\n"
     ]
    }
   ],
   "source": [
    "#17\n",
    "s = input()\n",
    "print(s, s, s)"
   ]
  },
  {
   "cell_type": "code",
   "execution_count": 41,
   "metadata": {},
   "outputs": [
    {
     "name": "stdout",
     "output_type": "stream",
     "text": [
      "4:56\n",
      "4:56\n"
     ]
    }
   ],
   "source": [
    "#18\n",
    "a, b = input().split(':')\n",
    "print(a, b, sep=':')"
   ]
  },
  {
   "cell_type": "code",
   "execution_count": 42,
   "metadata": {},
   "outputs": [
    {
     "name": "stdout",
     "output_type": "stream",
     "text": [
      "2020.3.4\n",
      "4-3-2020\n"
     ]
    }
   ],
   "source": [
    "#19\n",
    "a, b, c = input().split('.')\n",
    "print(c, b, a, sep='-')"
   ]
  },
  {
   "cell_type": "code",
   "execution_count": 45,
   "metadata": {},
   "outputs": [
    {
     "name": "stdout",
     "output_type": "stream",
     "text": [
      "123456-1234567\n",
      "1234561234567\n"
     ]
    }
   ],
   "source": [
    "#20\n",
    "a, b = input().split('-')\n",
    "print(a, b, sep='')"
   ]
  },
  {
   "cell_type": "code",
   "execution_count": 46,
   "metadata": {},
   "outputs": [
    {
     "name": "stdout",
     "output_type": "stream",
     "text": [
      "Hello\n",
      "H\n",
      "e\n",
      "l\n",
      "l\n",
      "o\n"
     ]
    }
   ],
   "source": [
    "#21\n",
    "s = input()\n",
    "for c in s:\n",
    "    print(c)"
   ]
  },
  {
   "cell_type": "code",
   "execution_count": 48,
   "metadata": {},
   "outputs": [
    {
     "name": "stdout",
     "output_type": "stream",
     "text": [
      "200304\n",
      "20 03 04\n"
     ]
    }
   ],
   "source": [
    "#22\n",
    "s = input()\n",
    "print(s[0:2], s[2:4], s[4:])"
   ]
  },
  {
   "cell_type": "code",
   "execution_count": 50,
   "metadata": {},
   "outputs": [
    {
     "name": "stdout",
     "output_type": "stream",
     "text": [
      "17:23:57\n",
      "23\n"
     ]
    }
   ],
   "source": [
    "#23\n",
    "s = input()\n",
    "print(s.split(':')[1])"
   ]
  },
  {
   "cell_type": "code",
   "execution_count": 54,
   "metadata": {},
   "outputs": [
    {
     "name": "stdout",
     "output_type": "stream",
     "text": [
      "hello world\n",
      "helloworld\n"
     ]
    }
   ],
   "source": [
    "#24\n",
    "a, b = input().split(' ')\n",
    "print(a+b)"
   ]
  },
  {
   "cell_type": "code",
   "execution_count": 55,
   "metadata": {},
   "outputs": [
    {
     "name": "stdout",
     "output_type": "stream",
     "text": [
      "3 4\n",
      "7\n"
     ]
    }
   ],
   "source": [
    "#25\n",
    "a, b = input().split()\n",
    "print(int(a)+int(b))"
   ]
  },
  {
   "cell_type": "code",
   "execution_count": 59,
   "metadata": {},
   "outputs": [
    {
     "name": "stdout",
     "output_type": "stream",
     "text": [
      "0.1\n",
      "0.9\n",
      "1.0\n"
     ]
    }
   ],
   "source": [
    "#26\n",
    "a = input()\n",
    "b = input()\n",
    "print(float(a) + float(b))"
   ]
  },
  {
   "cell_type": "code",
   "execution_count": 63,
   "metadata": {},
   "outputs": [
    {
     "name": "stdout",
     "output_type": "stream",
     "text": [
      "15\n",
      "f\n"
     ]
    }
   ],
   "source": [
    "#27\n",
    "a = input()\n",
    "n = int(a)\n",
    "print('%x'%n) #hexadecimal"
   ]
  },
  {
   "cell_type": "code",
   "execution_count": 64,
   "metadata": {},
   "outputs": [
    {
     "name": "stdout",
     "output_type": "stream",
     "text": [
      "255\n",
      "FF\n"
     ]
    }
   ],
   "source": [
    "#28\n",
    "a = input()\n",
    "n = int(a)\n",
    "print('%X'%n)"
   ]
  },
  {
   "cell_type": "code",
   "execution_count": 67,
   "metadata": {},
   "outputs": [
    {
     "name": "stdout",
     "output_type": "stream",
     "text": [
      "10\n",
      "20\n"
     ]
    }
   ],
   "source": [
    "#29\n",
    "a = input()\n",
    "n = int(a, 16)\n",
    "print('%o'%n) #octal"
   ]
  },
  {
   "cell_type": "code",
   "execution_count": 70,
   "metadata": {},
   "outputs": [
    {
     "name": "stdout",
     "output_type": "stream",
     "text": [
      "A\n",
      "65\n"
     ]
    }
   ],
   "source": [
    "#30\n",
    "n = ord(input()) # A->65, char to integer representing the Unicode character\n",
    "print(n)"
   ]
  },
  {
   "cell_type": "code",
   "execution_count": 73,
   "metadata": {},
   "outputs": [
    {
     "name": "stdout",
     "output_type": "stream",
     "text": [
      "65\n",
      "A\n"
     ]
    }
   ],
   "source": [
    "#31\n",
    "n = int(input())\n",
    "print(chr(n)) # 65->A, integer to character that represents the specified unicode."
   ]
  },
  {
   "cell_type": "code",
   "execution_count": 74,
   "metadata": {},
   "outputs": [
    {
     "name": "stdout",
     "output_type": "stream",
     "text": [
      "-4\n",
      "4\n"
     ]
    }
   ],
   "source": [
    "#32\n",
    "a = int(input())\n",
    "print(a*-1)"
   ]
  },
  {
   "cell_type": "code",
   "execution_count": 80,
   "metadata": {},
   "outputs": [
    {
     "name": "stdout",
     "output_type": "stream",
     "text": [
      "A\n",
      "B\n"
     ]
    }
   ],
   "source": [
    "#33\n",
    "a = ord(input())\n",
    "print(chr(a+1))"
   ]
  },
  {
   "cell_type": "code",
   "execution_count": 84,
   "metadata": {},
   "outputs": [
    {
     "name": "stdout",
     "output_type": "stream",
     "text": [
      "123 -123\n",
      "246\n",
      "-123\n"
     ]
    }
   ],
   "source": [
    "#34\n",
    "a, b = input().split()\n",
    "print(int(a)-int(b))"
   ]
  },
  {
   "cell_type": "code",
   "execution_count": 85,
   "metadata": {},
   "outputs": [
    {
     "name": "stdout",
     "output_type": "stream",
     "text": [
      "0.5 0.2\n",
      "0.1\n"
     ]
    }
   ],
   "source": [
    "#35\n",
    "a, b = input().split()\n",
    "print(float(a)*float(b))"
   ]
  },
  {
   "cell_type": "code",
   "execution_count": 88,
   "metadata": {},
   "outputs": [
    {
     "name": "stdout",
     "output_type": "stream",
     "text": [
      "love 3\n",
      "lovelovelove\n"
     ]
    }
   ],
   "source": [
    "### 36\n",
    "w, n = input().split()\n",
    "print(w*int(n))"
   ]
  },
  {
   "cell_type": "code",
   "execution_count": 89,
   "metadata": {},
   "outputs": [
    {
     "name": "stdout",
     "output_type": "stream",
     "text": [
      "3\n",
      "I love CS\n",
      "I love CSI love CSI love CS\n"
     ]
    }
   ],
   "source": [
    "#37\n",
    "n = int(input())\n",
    "s = input()\n",
    "print(n*s)"
   ]
  },
  {
   "cell_type": "code",
   "execution_count": 90,
   "metadata": {},
   "outputs": [
    {
     "name": "stdout",
     "output_type": "stream",
     "text": [
      "2 10\n",
      "1024\n"
     ]
    }
   ],
   "source": [
    "#38\n",
    "a, b = input().split()\n",
    "print(int(a)**int(b))"
   ]
  },
  {
   "cell_type": "code",
   "execution_count": 91,
   "metadata": {},
   "outputs": [
    {
     "name": "stdout",
     "output_type": "stream",
     "text": [
      "4.0 2.0\n",
      "16.0\n"
     ]
    }
   ],
   "source": [
    "#39\n",
    "f1, f2 = input().split()\n",
    "print(float(f1)**float(f2))"
   ]
  },
  {
   "cell_type": "code",
   "execution_count": 92,
   "metadata": {},
   "outputs": [
    {
     "name": "stdout",
     "output_type": "stream",
     "text": [
      "10 3\n",
      "3\n"
     ]
    }
   ],
   "source": [
    "#40\n",
    "a, b = input().split()\n",
    "print(int(a)//int(b))"
   ]
  },
  {
   "cell_type": "code",
   "execution_count": 93,
   "metadata": {},
   "outputs": [
    {
     "name": "stdout",
     "output_type": "stream",
     "text": [
      "10 3\n",
      "1\n"
     ]
    }
   ],
   "source": [
    "#41\n",
    "a, b = input().split()\n",
    "print(int(a)%int(b))"
   ]
  },
  {
   "cell_type": "code",
   "execution_count": 94,
   "metadata": {},
   "outputs": [
    {
     "name": "stdout",
     "output_type": "stream",
     "text": [
      "3.14567\n",
      "3.15\n"
     ]
    }
   ],
   "source": [
    "#42\n",
    "f = input()\n",
    "f = float(f)\n",
    "print(format(f, \".2f\"))"
   ]
  },
  {
   "cell_type": "code",
   "execution_count": 96,
   "metadata": {},
   "outputs": [
    {
     "name": "stdout",
     "output_type": "stream",
     "text": [
      "10.0 3.0\n",
      "3.333\n"
     ]
    }
   ],
   "source": [
    "#43\n",
    "f1, f2 = input().split()\n",
    "f3 = float(f1)/float(f2)\n",
    "print(format(f3, \".3f\"))"
   ]
  },
  {
   "cell_type": "code",
   "execution_count": 104,
   "metadata": {},
   "outputs": [
    {
     "name": "stdout",
     "output_type": "stream",
     "text": [
      "10 3\n",
      "13\n",
      "7\n",
      "30\n",
      "3\n",
      "1\n",
      "3.33\n"
     ]
    }
   ],
   "source": [
    "### 44\n",
    "a, b = input().split()\n",
    "print(int(a)+int(b))\n",
    "print(int(a)-int(b))\n",
    "print(int(a)*int(b))\n",
    "print(int(a)//int(b))\n",
    "print(int(a)%int(b))\n",
    "print(format(int(a)/int(b), '.2f'))"
   ]
  },
  {
   "cell_type": "code",
   "execution_count": 108,
   "metadata": {},
   "outputs": [
    {
     "name": "stdout",
     "output_type": "stream",
     "text": [
      "1 2 3\n",
      "6 2.00\n"
     ]
    }
   ],
   "source": [
    "#45\n",
    "a, b, c = input().split()\n",
    "print(int(a) + int(b) + int(c), format((int(a) + int(b) + int(c))/3, \".2f\"))"
   ]
  },
  {
   "cell_type": "code",
   "execution_count": 111,
   "metadata": {},
   "outputs": [
    {
     "name": "stdout",
     "output_type": "stream",
     "text": [
      "1024\n",
      "2048\n"
     ]
    }
   ],
   "source": [
    "#46\n",
    "a = int(input())\n",
    "#print(int(a)*2)\n",
    "print(a<<1)"
   ]
  },
  {
   "cell_type": "code",
   "execution_count": 112,
   "metadata": {},
   "outputs": [
    {
     "name": "stdout",
     "output_type": "stream",
     "text": [
      "1 3\n",
      "8\n"
     ]
    }
   ],
   "source": [
    "#47\n",
    "a, b = input().split()\n",
    "print(int(a)<<int(b))"
   ]
  },
  {
   "cell_type": "code",
   "execution_count": 123,
   "metadata": {},
   "outputs": [
    {
     "name": "stdout",
     "output_type": "stream",
     "text": [
      "10 3\n",
      "False\n"
     ]
    }
   ],
   "source": [
    "#48\n",
    "a, b = input().split()\n",
    "if int(a)<int(b): \n",
    "    c=True\n",
    "else: \n",
    "    c=False \n",
    "print(c)"
   ]
  },
  {
   "cell_type": "code",
   "execution_count": 124,
   "metadata": {},
   "outputs": [
    {
     "name": "stdout",
     "output_type": "stream",
     "text": [
      "0 0\n",
      "True\n"
     ]
    }
   ],
   "source": [
    "#49\n",
    "a, b = input().split()\n",
    "if int(a)==int(b):\n",
    "    print(True)\n",
    "else:\n",
    "    print(False)"
   ]
  },
  {
   "cell_type": "code",
   "execution_count": 125,
   "metadata": {},
   "outputs": [
    {
     "name": "stdout",
     "output_type": "stream",
     "text": [
      "0 -1\n",
      "False\n"
     ]
    }
   ],
   "source": [
    "#50\n",
    "a, b = input().split()\n",
    "if int(b) >= int(a): \n",
    "    print(True)\n",
    "elif int(b) != int(a):\n",
    "    print(False)"
   ]
  },
  {
   "cell_type": "code",
   "execution_count": 126,
   "metadata": {},
   "outputs": [
    {
     "name": "stdout",
     "output_type": "stream",
     "text": [
      "0 1\n",
      "True\n"
     ]
    }
   ],
   "source": [
    "#51\n",
    "a, b = input().split()\n",
    "if int(a) != int(b):\n",
    "    print(True)\n",
    "else:\n",
    "    print(False)"
   ]
  },
  {
   "cell_type": "code",
   "execution_count": 130,
   "metadata": {},
   "outputs": [
    {
     "name": "stdout",
     "output_type": "stream",
     "text": [
      "0\n",
      "False\n"
     ]
    }
   ],
   "source": [
    "#52\n",
    "n = int(input())\n",
    "print(bool(n))"
   ]
  },
  {
   "cell_type": "code",
   "execution_count": 133,
   "metadata": {},
   "outputs": [
    {
     "name": "stdout",
     "output_type": "stream",
     "text": [
      "0\n",
      "True\n"
     ]
    }
   ],
   "source": [
    "#53\n",
    "n = int(input())\n",
    "print(not bool(n))"
   ]
  },
  {
   "cell_type": "code",
   "execution_count": 134,
   "metadata": {},
   "outputs": [
    {
     "name": "stdout",
     "output_type": "stream",
     "text": [
      "1 1\n",
      "True\n"
     ]
    }
   ],
   "source": [
    "#54\n",
    "a, b = input().split()\n",
    "print(bool(int(a)) & bool(int(b)))"
   ]
  },
  {
   "cell_type": "code",
   "execution_count": 135,
   "metadata": {},
   "outputs": [
    {
     "name": "stdout",
     "output_type": "stream",
     "text": [
      "1 1\n",
      "True\n"
     ]
    }
   ],
   "source": [
    "#55\n",
    "a, b = input().split()\n",
    "print(bool(int(a)|int(b)))"
   ]
  },
  {
   "cell_type": "code",
   "execution_count": 137,
   "metadata": {},
   "outputs": [
    {
     "name": "stdout",
     "output_type": "stream",
     "text": [
      "1 1\n",
      "False\n"
     ]
    }
   ],
   "source": [
    "#56\n",
    "a, b = input().split()\n",
    "print((bool(int(a)) & (not bool(int(b)))) | ((not bool(int(a))) & bool(int(b))))\n"
   ]
  },
  {
   "cell_type": "code",
   "execution_count": 138,
   "metadata": {},
   "outputs": [
    {
     "name": "stdout",
     "output_type": "stream",
     "text": [
      "0 0\n",
      "True\n"
     ]
    }
   ],
   "source": [
    "#57\n",
    "a, b = input().split()\n",
    "print((bool(int(a)) & bool(int(b))) | ((not bool(int(a))) & (not bool(int(b)))))"
   ]
  },
  {
   "cell_type": "code",
   "execution_count": 139,
   "metadata": {},
   "outputs": [
    {
     "name": "stdout",
     "output_type": "stream",
     "text": [
      "0 0\n",
      "True\n"
     ]
    }
   ],
   "source": [
    "#58\n",
    "a, b = input().split()\n",
    "print(((not bool(int(a))) & (not bool(int(b)))))"
   ]
  },
  {
   "cell_type": "code",
   "execution_count": 141,
   "metadata": {},
   "outputs": [
    {
     "name": "stdout",
     "output_type": "stream",
     "text": [
      "2\n",
      "-3\n"
     ]
    }
   ],
   "source": [
    "#59\n",
    "a = int(input())\n",
    "print(~a)"
   ]
  },
  {
   "cell_type": "code",
   "execution_count": 142,
   "metadata": {},
   "outputs": [
    {
     "name": "stdout",
     "output_type": "stream",
     "text": [
      "3 5\n",
      "1\n"
     ]
    }
   ],
   "source": [
    "#60\n",
    "a, b = input().split()\n",
    "print(int(a) & int(b))"
   ]
  },
  {
   "cell_type": "code",
   "execution_count": 143,
   "metadata": {},
   "outputs": [
    {
     "name": "stdout",
     "output_type": "stream",
     "text": [
      "3 5\n",
      "7\n"
     ]
    }
   ],
   "source": [
    "#61\n",
    "a, b = input().split()\n",
    "print(int(a)|int(b))"
   ]
  },
  {
   "cell_type": "code",
   "execution_count": 144,
   "metadata": {},
   "outputs": [
    {
     "name": "stdout",
     "output_type": "stream",
     "text": [
      "3 5\n",
      "6\n"
     ]
    }
   ],
   "source": [
    "#62\n",
    "a, b = input().split()\n",
    "print(int(a)^int(b))"
   ]
  },
  {
   "cell_type": "code",
   "execution_count": 146,
   "metadata": {},
   "outputs": [
    {
     "name": "stdout",
     "output_type": "stream",
     "text": [
      "123 456\n",
      "456\n"
     ]
    }
   ],
   "source": [
    "#63\n",
    "a, b = input().split()\n",
    "a = int(a)\n",
    "b = int(b)\n",
    "c = (a if int(a) > int(b) else b)\n",
    "print(c)"
   ]
  },
  {
   "cell_type": "code",
   "execution_count": 151,
   "metadata": {},
   "outputs": [
    {
     "name": "stdout",
     "output_type": "stream",
     "text": [
      "0 1 -2\n",
      "-2\n"
     ]
    }
   ],
   "source": [
    "#64\n",
    "a, b, c = input().split()\n",
    "a = int(a)\n",
    "b = int(b)\n",
    "c = int(c)\n",
    "\n",
    "print((a if int(a) < int(b) else b) if ((a if int(a) < int(b) else b) < c) else c)\n"
   ]
  },
  {
   "cell_type": "code",
   "execution_count": 153,
   "metadata": {},
   "outputs": [
    {
     "name": "stdout",
     "output_type": "stream",
     "text": [
      "1 2 4\n",
      "2\n",
      "4\n"
     ]
    }
   ],
   "source": [
    "#65\n",
    "a, b, c = input().split()\n",
    "a = int(a)\n",
    "b = int(b)\n",
    "c = int(c)\n",
    "if a%2 == 0:\n",
    "    print(a)\n",
    "if b%2 == 0:    \n",
    "    print(b)\n",
    "if c%2 == 0:\n",
    "    print(c)"
   ]
  },
  {
   "cell_type": "code",
   "execution_count": 154,
   "metadata": {},
   "outputs": [
    {
     "name": "stdout",
     "output_type": "stream",
     "text": [
      "1 2 8\n",
      "odd\n",
      "even\n",
      "even\n"
     ]
    }
   ],
   "source": [
    "#66\n",
    "a, b, c = input().split()\n",
    "a = int(a)\n",
    "b = int(b)\n",
    "c = int(c)\n",
    "if a%2 == 0:\n",
    "    print('even')\n",
    "else:\n",
    "    print('odd')\n",
    "    \n",
    "if b%2 == 0:\n",
    "    print('even')\n",
    "else:\n",
    "    print('odd')\n",
    "    \n",
    "if c%2 == 0:\n",
    "    print('even')\n",
    "else:\n",
    "    print('odd')    "
   ]
  },
  {
   "cell_type": "code",
   "execution_count": 156,
   "metadata": {},
   "outputs": [
    {
     "name": "stdout",
     "output_type": "stream",
     "text": [
      "-2147483648\n",
      "A\n"
     ]
    }
   ],
   "source": [
    "#67\n",
    "a = input()\n",
    "a = int(a)\n",
    "if (a<0) & (a%2==0):\n",
    "    print('A')\n",
    "elif (a<0) & (a%2==1):\n",
    "    print('B')\n",
    "elif (a>0) & (a%2==0):\n",
    "    print('C')\n",
    "elif (a>0) & (a%2==1):\n",
    "    print('D')"
   ]
  },
  {
   "cell_type": "code",
   "execution_count": 157,
   "metadata": {},
   "outputs": [
    {
     "name": "stdout",
     "output_type": "stream",
     "text": [
      "73\n",
      "B\n"
     ]
    }
   ],
   "source": [
    "#68\n",
    "a = input()\n",
    "a = int(a)\n",
    "if a>=90:\n",
    "    print('A')\n",
    "elif a>=70:\n",
    "    print('B')\n",
    "elif a>=40:\n",
    "    print('C')\n",
    "else:\n",
    "    print('D')"
   ]
  },
  {
   "cell_type": "code",
   "execution_count": 159,
   "metadata": {},
   "outputs": [
    {
     "name": "stdout",
     "output_type": "stream",
     "text": [
      "A\n",
      "best!!!\n"
     ]
    }
   ],
   "source": [
    "#69\n",
    "a = input()\n",
    "\n",
    "if a=='A':\n",
    "    print('best!!!')\n",
    "elif a=='B':\n",
    "    print('good!!')\n",
    "elif a=='C':\n",
    "    print('run!')\n",
    "elif a=='D':\n",
    "    print('slowly~')\n",
    "else:\n",
    "    print('what?')"
   ]
  },
  {
   "cell_type": "code",
   "execution_count": 160,
   "metadata": {},
   "outputs": [
    {
     "name": "stdout",
     "output_type": "stream",
     "text": [
      "12\n",
      "winter\n"
     ]
    }
   ],
   "source": [
    "#70\n",
    "a = int(input())\n",
    "\n",
    "if a//3 == 1:\n",
    "    print('spring')\n",
    "elif a//3 == 2:\n",
    "    print('summer')\n",
    "elif a//3 == 3:\n",
    "    print('fall')\n",
    "else:\n",
    "    print('winter')"
   ]
  },
  {
   "cell_type": "code",
   "execution_count": 161,
   "metadata": {},
   "outputs": [
    {
     "name": "stdout",
     "output_type": "stream",
     "text": [
      "2\n",
      "2\n",
      "0\n"
     ]
    }
   ],
   "source": [
    "#71\n",
    "n = 1\n",
    "while n!=0:\n",
    "    n = int(input())\n",
    "    if n!=0:\n",
    "        print(n)        \n",
    "    "
   ]
  },
  {
   "cell_type": "code",
   "execution_count": 165,
   "metadata": {},
   "outputs": [
    {
     "name": "stdout",
     "output_type": "stream",
     "text": [
      "5\n",
      "5\n",
      "4\n",
      "3\n",
      "2\n",
      "1\n"
     ]
    }
   ],
   "source": [
    "#72\n",
    "n=int(input())\n",
    "while n!=0:\n",
    "    print(n)\n",
    "    n = n-1\n"
   ]
  },
  {
   "cell_type": "code",
   "execution_count": 166,
   "metadata": {},
   "outputs": [
    {
     "name": "stdout",
     "output_type": "stream",
     "text": [
      "5\n",
      "4\n",
      "3\n",
      "2\n",
      "1\n",
      "0\n"
     ]
    }
   ],
   "source": [
    "#73\n",
    "n=int(input())\n",
    "while n!=0:\n",
    "    n = n-1\n",
    "    print(n)\n"
   ]
  },
  {
   "cell_type": "code",
   "execution_count": 174,
   "metadata": {},
   "outputs": [
    {
     "name": "stdout",
     "output_type": "stream",
     "text": [
      "f\n",
      "a b c d e f "
     ]
    }
   ],
   "source": [
    "#74\n",
    "c = ord(input())\n",
    "t = 97\n",
    "while t<=c:\n",
    "    print(chr(t), end=' ')\n",
    "    t = t+1"
   ]
  },
  {
   "cell_type": "code",
   "execution_count": 175,
   "metadata": {},
   "outputs": [
    {
     "name": "stdout",
     "output_type": "stream",
     "text": [
      "4\n",
      "0\n",
      "1\n",
      "2\n",
      "3\n",
      "4\n"
     ]
    }
   ],
   "source": [
    "#75\n",
    "a = int(input())\n",
    "t = 0\n",
    "while t<=a:\n",
    "    print(t)\n",
    "    t += 1\n"
   ]
  },
  {
   "cell_type": "code",
   "execution_count": 177,
   "metadata": {},
   "outputs": [
    {
     "name": "stdout",
     "output_type": "stream",
     "text": [
      "4\n",
      "0\n",
      "1\n",
      "2\n",
      "3\n",
      "4\n"
     ]
    }
   ],
   "source": [
    "#76\n",
    "a = int(input())\n",
    "for i in range(a+1):\n",
    "    print(i)"
   ]
  },
  {
   "cell_type": "code",
   "execution_count": 180,
   "metadata": {},
   "outputs": [
    {
     "name": "stdout",
     "output_type": "stream",
     "text": [
      "5\n",
      "6\n"
     ]
    }
   ],
   "source": [
    "#77\n",
    "a = int(input())\n",
    "s = 0\n",
    "for i in range(1, a+1):\n",
    "    if i%2==0:\n",
    "        s += i\n",
    "print(s)        \n"
   ]
  },
  {
   "cell_type": "code",
   "execution_count": 184,
   "metadata": {},
   "outputs": [
    {
     "name": "stdout",
     "output_type": "stream",
     "text": [
      "a\n",
      "a\n",
      "q\n"
     ]
    }
   ],
   "source": [
    "#78\n",
    "while True:\n",
    "    a = input()\n",
    "    print(a)\n",
    "    if a == 'q':\n",
    "        break\n",
    "\n",
    "    "
   ]
  },
  {
   "cell_type": "code",
   "execution_count": 191,
   "metadata": {},
   "outputs": [
    {
     "name": "stdout",
     "output_type": "stream",
     "text": [
      "55\n",
      "10\n"
     ]
    }
   ],
   "source": [
    "#79\n",
    "a = int(input())\n",
    "s = 0\n",
    "n = 0\n",
    "\n",
    "while s<a:        \n",
    "    n += 1  \n",
    "    s += n\n",
    "print(n)    \n"
   ]
  },
  {
   "cell_type": "code",
   "execution_count": 199,
   "metadata": {},
   "outputs": [
    {
     "name": "stdout",
     "output_type": "stream",
     "text": [
      "2 3\n",
      "1 1\n",
      "1 2\n",
      "1 3\n",
      "2 1\n",
      "2 2\n",
      "2 3\n"
     ]
    }
   ],
   "source": [
    "#80\n",
    "n, m = input().split()\n",
    "n = int(n)\n",
    "m = int(m)\n",
    "\n",
    "for i in range(1, n+1, 1):    \n",
    "    for j in range(1, m+1, 1):\n",
    "        print(i, j)\n",
    "        "
   ]
  },
  {
   "cell_type": "code",
   "execution_count": 212,
   "metadata": {},
   "outputs": [
    {
     "name": "stdout",
     "output_type": "stream",
     "text": [
      "B\n",
      "B*1=B\n",
      "B*2=16\n",
      "B*3=21\n",
      "B*4=2C\n",
      "B*5=37\n",
      "B*6=42\n",
      "B*7=4D\n",
      "B*8=58\n",
      "B*9=63\n",
      "B*A=6E\n",
      "B*B=79\n",
      "B*C=84\n",
      "B*D=8F\n",
      "B*E=9A\n",
      "B*F=A5\n"
     ]
    }
   ],
   "source": [
    "#81\n",
    "n = input()\n",
    "n = int(n, 16)\n",
    "\n",
    "for i in range(1, int('F', 16)+1, 1) :\n",
    "    print('%X*'%n, '%X'%i, '=', '%X'%(i*n), sep='')\n",
    "\n"
   ]
  },
  {
   "cell_type": "code",
   "execution_count": 219,
   "metadata": {},
   "outputs": [
    {
     "name": "stdout",
     "output_type": "stream",
     "text": [
      "9\n",
      "1 2 X 4 5 X 7 8 X \n"
     ]
    }
   ],
   "source": [
    "#82\n",
    "n = int(input())\n",
    "s = \"\"\n",
    "for i in range(1, n+1, 1):\n",
    "    if ('3' in str(i)) | ('6' in str(i)) | ('9' in str(i)):\n",
    "          s += 'X '\n",
    "    else:\n",
    "        s += str(i) + ' '\n",
    "print(s)        "
   ]
  },
  {
   "cell_type": "code",
   "execution_count": 220,
   "metadata": {},
   "outputs": [
    {
     "name": "stdout",
     "output_type": "stream",
     "text": [
      "2 2 2\n",
      "0 0 0\n",
      "0 0 1\n",
      "0 1 0\n",
      "0 1 1\n",
      "1 0 0\n",
      "1 0 1\n",
      "1 1 0\n",
      "1 1 1\n",
      "8\n"
     ]
    }
   ],
   "source": [
    "#83\n",
    "r, g, b = input().split()\n",
    "\n",
    "r = int(r)\n",
    "g = int(g)\n",
    "b = int(b)\n",
    "\n",
    "cnt = 0\n",
    "for i in range(r):\n",
    "    for j in range(g):\n",
    "        for k in range(b):\n",
    "            cnt += 1\n",
    "            print(i, j, k)\n",
    "            \n",
    "print(cnt)            "
   ]
  },
  {
   "cell_type": "code",
   "execution_count": 229,
   "metadata": {},
   "outputs": [
    {
     "name": "stdout",
     "output_type": "stream",
     "text": [
      "44100 16 2 10\n",
      "1.7 MB\n"
     ]
    }
   ],
   "source": [
    "#84\n",
    "h, b, c, s = input().split()\n",
    "h = int(h)\n",
    "b = int(b)\n",
    "c = int(c)\n",
    "s = int(s)\n",
    "print(format(h*b*c*s/8/1024/1024, '.1f'), 'MB')\n"
   ]
  },
  {
   "cell_type": "code",
   "execution_count": 235,
   "metadata": {},
   "outputs": [
    {
     "name": "stdout",
     "output_type": "stream",
     "text": [
      "1024 768 24\n",
      "2.25 MB\n"
     ]
    }
   ],
   "source": [
    "#85\n",
    "w, h, b = input().split()\n",
    "\n",
    "w = int(w)\n",
    "h = int(h)\n",
    "b = int(b)\n",
    "\n",
    "print(format(w*h*b/8/1024/1024,'.2f'), 'MB')"
   ]
  },
  {
   "cell_type": "code",
   "execution_count": 237,
   "metadata": {},
   "outputs": [
    {
     "name": "stdout",
     "output_type": "stream",
     "text": [
      "57\n",
      "66\n"
     ]
    }
   ],
   "source": [
    "#86\n",
    "n = int(input())\n",
    "s = 0\n",
    "for i in range(1, n+1, 1):\n",
    "    s += i\n",
    "    if s>=n:\n",
    "        break\n",
    "print(s)    "
   ]
  },
  {
   "cell_type": "code",
   "execution_count": 240,
   "metadata": {},
   "outputs": [
    {
     "name": "stdout",
     "output_type": "stream",
     "text": [
      "10\n",
      "1 2 4 5 7 8 10 \n"
     ]
    }
   ],
   "source": [
    "#87\n",
    "n = int(input())\n",
    "s = \"\"\n",
    "for i in range(1, n+1, 1):\n",
    "    if i%3 != 0:\n",
    "        s += str(i) + \" \"\n",
    "print(s)    \n",
    "    "
   ]
  },
  {
   "cell_type": "code",
   "execution_count": 262,
   "metadata": {},
   "outputs": [
    {
     "name": "stdout",
     "output_type": "stream",
     "text": [
      "1 3 5\n",
      "13\n"
     ]
    }
   ],
   "source": [
    "#88\n",
    "a, d, n = input().split()\n",
    "a = int(a) \n",
    "d = int(d) \n",
    "n = int(n) \n",
    "\n",
    "cnt = 1\n",
    "for i in range(1, n+1):\n",
    "    t_n = a + (d*(i-1))\n",
    "    cnt = t_n\n",
    "print(cnt)    "
   ]
  },
  {
   "cell_type": "code",
   "execution_count": 259,
   "metadata": {},
   "outputs": [
    {
     "name": "stdout",
     "output_type": "stream",
     "text": [
      "2 3 7\n",
      "1458\n"
     ]
    }
   ],
   "source": [
    "#89\n",
    "a, r, n = input().split()\n",
    "a = int(a) \n",
    "r = int(r) \n",
    "n = int(n) \n",
    "\n",
    "cnt = 1\n",
    "for i in range(1, n+1):\n",
    "    t_n = a * r**(i-1)\n",
    "    cnt = t_n\n",
    "print(cnt)\n",
    "     "
   ]
  },
  {
   "cell_type": "code",
   "execution_count": 267,
   "metadata": {},
   "outputs": [
    {
     "name": "stdout",
     "output_type": "stream",
     "text": [
      "1 -2 1 8\n",
      "-85\n"
     ]
    }
   ],
   "source": [
    "#90\n",
    "a, m, d, n = input().split()\n",
    "a = int(a)  \n",
    "m = int(m)  \n",
    "d = int(d)  \n",
    "n = int(n)  \n",
    "\n",
    "for i in range(1, n):\n",
    "    a = (a * m) + d     \n",
    "    \n",
    "print(a)\n",
    "     "
   ]
  },
  {
   "cell_type": "code",
   "execution_count": 271,
   "metadata": {},
   "outputs": [
    {
     "name": "stdout",
     "output_type": "stream",
     "text": [
      "3 7 9\n",
      "63\n"
     ]
    }
   ],
   "source": [
    "#91\n",
    "a, b, c = input().split()\n",
    "a = int(a)\n",
    "b = int(b)\n",
    "c = int(c)\n",
    "\n",
    "d = 1\n",
    "while ((d%a!=0) | (d%b!=0) | (d%c!=0)):\n",
    "    d += 1\n",
    "\n",
    "print(d)\n",
    "\n"
   ]
  },
  {
   "cell_type": "code",
   "execution_count": 296,
   "metadata": {},
   "outputs": [
    {
     "name": "stdout",
     "output_type": "stream",
     "text": [
      "10\n",
      "1 3 2 2 5 6 7 4 5 9\n",
      "1 2 1 1 2 1 1 0 1 0 0 0 0 0 0 0 0 0 0 0 0 0 0 "
     ]
    }
   ],
   "source": [
    "#92\n",
    "n = int(input())\n",
    "a = input().split()\n",
    "\n",
    "call = [0]*23\n",
    "for i in range(1, 24):\n",
    "    \n",
    "    for j in range(0, n, 1):\n",
    "        if i==int(a[j]):\n",
    "            call[i-1] += 1\n",
    "            \n",
    "for i in range(len(call)):            \n",
    "    print(call[i], end=' ')\n"
   ]
  },
  {
   "cell_type": "code",
   "execution_count": 304,
   "metadata": {},
   "outputs": [
    {
     "name": "stdout",
     "output_type": "stream",
     "text": [
      "10\n",
      "10 4 2 3 6 6 7 9 8 5\n",
      "5 8 9 7 6 6 3 2 4 10 \n"
     ]
    }
   ],
   "source": [
    "#93\n",
    "n = int(input())\n",
    "a = input().split()\n",
    "lst = a\n",
    "rtn = \"\"\n",
    "\n",
    "for i in range(n-1, -1, -1):\n",
    "    rtn += str(lst[i]) + \" \"\n",
    "print(rtn)\n",
    "    "
   ]
  },
  {
   "cell_type": "code",
   "execution_count": null,
   "metadata": {},
   "outputs": [],
   "source": [
    "#94\n",
    "n = int(input())\n",
    "a = input().split()\n",
    "lst = a\n",
    "lst = [eval(i) for i in lst]\n",
    "print(min(lst))"
   ]
  },
  {
   "cell_type": "code",
   "execution_count": 326,
   "metadata": {},
   "outputs": [
    {
     "name": "stdout",
     "output_type": "stream",
     "text": [
      "5\n",
      "1 1\n",
      "2 2\n",
      "3 3\n",
      "4 4\n",
      "5 5\n",
      "1 0 0 0 0 0 0 0 0 0 0 0 0 0 0 0 0 0 0 \n",
      "0 1 0 0 0 0 0 0 0 0 0 0 0 0 0 0 0 0 0 \n",
      "0 0 1 0 0 0 0 0 0 0 0 0 0 0 0 0 0 0 0 \n",
      "0 0 0 1 0 0 0 0 0 0 0 0 0 0 0 0 0 0 0 \n",
      "0 0 0 0 1 0 0 0 0 0 0 0 0 0 0 0 0 0 0 \n",
      "0 0 0 0 0 0 0 0 0 0 0 0 0 0 0 0 0 0 0 \n",
      "0 0 0 0 0 0 0 0 0 0 0 0 0 0 0 0 0 0 0 \n",
      "0 0 0 0 0 0 0 0 0 0 0 0 0 0 0 0 0 0 0 \n",
      "0 0 0 0 0 0 0 0 0 0 0 0 0 0 0 0 0 0 0 \n",
      "0 0 0 0 0 0 0 0 0 0 0 0 0 0 0 0 0 0 0 \n",
      "0 0 0 0 0 0 0 0 0 0 0 0 0 0 0 0 0 0 0 \n",
      "0 0 0 0 0 0 0 0 0 0 0 0 0 0 0 0 0 0 0 \n",
      "0 0 0 0 0 0 0 0 0 0 0 0 0 0 0 0 0 0 0 \n",
      "0 0 0 0 0 0 0 0 0 0 0 0 0 0 0 0 0 0 0 \n",
      "0 0 0 0 0 0 0 0 0 0 0 0 0 0 0 0 0 0 0 \n",
      "0 0 0 0 0 0 0 0 0 0 0 0 0 0 0 0 0 0 0 \n",
      "0 0 0 0 0 0 0 0 0 0 0 0 0 0 0 0 0 0 0 \n",
      "0 0 0 0 0 0 0 0 0 0 0 0 0 0 0 0 0 0 0 \n",
      "0 0 0 0 0 0 0 0 0 0 0 0 0 0 0 0 0 0 0 \n"
     ]
    }
   ],
   "source": [
    "#95\n",
    "n = int(input())\n",
    "d = []\n",
    "\n",
    "d = [[0 for i in range(19)] for j in range(19)]\n",
    "\n",
    "for i in range(n):\n",
    "    a, b = input().split()\n",
    "    a = int(a)-1\n",
    "    b = int(b)-1\n",
    "    d[a][b] = 1 \n",
    "\n",
    "for i in range(len(d)):\n",
    "    for j in range(len(d[i])):\n",
    "        print(d[i][j], end=' ')\n",
    "    print()\n",
    "    "
   ]
  },
  {
   "cell_type": "code",
   "execution_count": 48,
   "metadata": {},
   "outputs": [
    {
     "name": "stdout",
     "output_type": "stream",
     "text": [
      "1 1 1 1 1 1 1 1 1 1 1 1 1 1 1 1 1 1 1\n",
      "1 1 1 1 1 1 1 1 1 1 1 1 1 1 1 1 1 1 1\n",
      "1 1 1 1 1 1 1 1 1 1 1 1 1 1 1 1 1 1 1\n",
      "1 1 1 1 1 1 1 1 1 1 1 1 1 1 1 1 1 1 1\n",
      "1 1 1 1 1 1 1 1 1 1 1 1 1 1 1 1 1 1 1\n",
      "1 1 1 1 1 1 1 1 1 1 1 1 1 1 1 1 1 1 1\n",
      "1 1 1 1 1 1 1 1 1 1 1 1 1 1 1 1 1 1 1\n",
      "1 1 1 1 1 1 1 1 1 1 1 1 1 1 1 1 1 1 1\n",
      "1 1 1 1 1 1 1 1 1 1 1 1 1 1 1 1 1 1 1\n",
      "1 1 1 1 1 1 1 1 1 1 1 1 1 1 1 1 1 1 1\n",
      "1 1 1 1 1 1 1 1 1 1 1 1 1 1 1 1 1 1 1\n",
      "1 1 1 1 1 1 1 1 1 1 1 1 1 1 1 1 1 1 1\n",
      "1 1 1 1 1 1 1 1 1 1 1 1 1 1 1 1 1 1 1\n",
      "1 1 1 1 1 1 1 1 1 1 1 1 1 1 1 1 1 1 1\n",
      "1 1 1 1 1 1 1 1 1 1 1 1 1 1 1 1 1 1 1\n",
      "1 1 1 1 1 1 1 1 1 1 1 1 1 1 1 1 1 1 1\n",
      "1 1 1 1 1 1 1 1 1 1 1 1 1 1 1 1 1 1 1\n",
      "1 1 1 1 1 1 1 1 1 1 1 1 1 1 1 1 1 1 1\n",
      "1 1 1 1 1 1 1 1 1 1 1 1 1 1 1 1 1 1 1\n",
      "-----\n",
      "[[1, 1, 1, 1, 1, 1, 1, 1, 1, 1, 1, 1, 1, 1, 1, 1, 1, 1, 1], [1, 1, 1, 1, 1, 1, 1, 1, 1, 1, 1, 1, 1, 1, 1, 1, 1, 1, 1], [1, 1, 1, 1, 1, 1, 1, 1, 1, 1, 1, 1, 1, 1, 1, 1, 1, 1, 1], [1, 1, 1, 1, 1, 1, 1, 1, 1, 1, 1, 1, 1, 1, 1, 1, 1, 1, 1], [1, 1, 1, 1, 1, 1, 1, 1, 1, 1, 1, 1, 1, 1, 1, 1, 1, 1, 1], [1, 1, 1, 1, 1, 1, 1, 1, 1, 1, 1, 1, 1, 1, 1, 1, 1, 1, 1], [1, 1, 1, 1, 1, 1, 1, 1, 1, 1, 1, 1, 1, 1, 1, 1, 1, 1, 1], [1, 1, 1, 1, 1, 1, 1, 1, 1, 1, 1, 1, 1, 1, 1, 1, 1, 1, 1], [1, 1, 1, 1, 1, 1, 1, 1, 1, 1, 1, 1, 1, 1, 1, 1, 1, 1, 1], [1, 1, 1, 1, 1, 1, 1, 1, 1, 1, 1, 1, 1, 1, 1, 1, 1, 1, 1], [1, 1, 1, 1, 1, 1, 1, 1, 1, 1, 1, 1, 1, 1, 1, 1, 1, 1, 1], [1, 1, 1, 1, 1, 1, 1, 1, 1, 1, 1, 1, 1, 1, 1, 1, 1, 1, 1], [1, 1, 1, 1, 1, 1, 1, 1, 1, 1, 1, 1, 1, 1, 1, 1, 1, 1, 1], [1, 1, 1, 1, 1, 1, 1, 1, 1, 1, 1, 1, 1, 1, 1, 1, 1, 1, 1], [1, 1, 1, 1, 1, 1, 1, 1, 1, 1, 1, 1, 1, 1, 1, 1, 1, 1, 1], [1, 1, 1, 1, 1, 1, 1, 1, 1, 1, 1, 1, 1, 1, 1, 1, 1, 1, 1], [1, 1, 1, 1, 1, 1, 1, 1, 1, 1, 1, 1, 1, 1, 1, 1, 1, 1, 1], [1, 1, 1, 1, 1, 1, 1, 1, 1, 1, 1, 1, 1, 1, 1, 1, 1, 1, 1], [1, 1, 1, 1, 1, 1, 1, 1, 1, 1, 1, 1, 1, 1, 1, 1, 1, 1, 1]]\n",
      "-----\n",
      "5\n",
      "11 11\n",
      "11 11\n",
      "12 12\n",
      "12 12\n",
      "7 8\n",
      "7 8\n",
      "9 12\n",
      "9 12\n",
      "19 5\n",
      "19 5\n",
      "1 1 1 1 0 1 1 0 1 1 0 1 1 1 1 1 1 1 1 \n",
      "1 1 1 1 0 1 1 0 1 1 0 1 1 1 1 1 1 1 1 \n",
      "1 1 1 1 0 1 1 0 1 1 0 1 1 1 1 1 1 1 1 \n",
      "1 1 1 1 0 1 1 0 1 1 0 1 1 1 1 1 1 1 1 \n",
      "1 1 1 1 0 1 1 0 1 1 0 1 1 1 1 1 1 1 1 \n",
      "1 1 1 1 0 1 1 0 1 1 0 1 1 1 1 1 1 1 1 \n",
      "0 0 0 0 1 0 0 1 0 0 1 0 0 0 0 0 0 0 0 \n",
      "1 1 1 1 0 1 1 0 1 1 0 1 1 1 1 1 1 1 1 \n",
      "0 0 0 0 1 0 0 1 0 0 1 0 0 0 0 0 0 0 0 \n",
      "1 1 1 1 0 1 1 0 1 1 0 1 1 1 1 1 1 1 1 \n",
      "0 0 0 0 1 0 0 1 0 0 1 0 0 0 0 0 0 0 0 \n",
      "0 0 0 0 1 0 0 1 0 0 1 0 0 0 0 0 0 0 0 \n",
      "1 1 1 1 0 1 1 0 1 1 0 1 1 1 1 1 1 1 1 \n",
      "1 1 1 1 0 1 1 0 1 1 0 1 1 1 1 1 1 1 1 \n",
      "1 1 1 1 0 1 1 0 1 1 0 1 1 1 1 1 1 1 1 \n",
      "1 1 1 1 0 1 1 0 1 1 0 1 1 1 1 1 1 1 1 \n",
      "1 1 1 1 0 1 1 0 1 1 0 1 1 1 1 1 1 1 1 \n",
      "1 1 1 1 0 1 1 0 1 1 0 1 1 1 1 1 1 1 1 \n",
      "0 0 0 0 1 0 0 1 0 0 1 0 0 0 0 0 0 0 0 \n"
     ]
    }
   ],
   "source": [
    "# 96\n",
    "size = 19\n",
    "d = []\n",
    "\n",
    "for i in range(size):\n",
    "    d.append(list(map(int, input().split())))\n",
    "# print(d)\n",
    "    \n",
    "n = int(input())\n",
    "for i in range(n) :\n",
    "    a, b = input().split()\n",
    "    a = int(a)\n",
    "    b = int(b)\n",
    "\n",
    "    for k in range(size):\n",
    "        for j in range(size):      \n",
    "            if (j==(b-1)):\n",
    "                d[k][j] = (0 if d[k][j] == 1 else 1)  \n",
    "            if (k==(a-1)):\n",
    "                d[k][j] = (0 if d[k][j] == 1 else 1)       \n",
    "\n",
    "for i in range(len(d)):\n",
    "    for j in range(len(d[i])):\n",
    "        print(d[i][j], end=' ')\n",
    "    print()\n",
    "\n",
    "# 0 1 0 0 \n",
    "# 1 1 1 1\n",
    "# 0 1 0 0\n",
    "# 0 1 0 0\n",
    "# 1\n",
    "# 2 2"
   ]
  },
  {
   "cell_type": "code",
   "execution_count": 58,
   "metadata": {},
   "outputs": [
    {
     "name": "stdout",
     "output_type": "stream",
     "text": [
      "20 10\n",
      "10\n",
      "[[0, 0, 0, 0, 0, 0, 0, 0, 0, 0], [0, 0, 0, 0, 0, 0, 0, 0, 0, 0], [0, 0, 0, 0, 0, 0, 0, 0, 0, 0], [0, 0, 0, 0, 0, 0, 0, 0, 0, 0], [0, 0, 0, 0, 0, 0, 0, 0, 0, 0], [0, 0, 0, 0, 0, 0, 0, 0, 0, 0], [0, 0, 0, 0, 0, 0, 0, 0, 0, 0], [0, 0, 0, 0, 0, 0, 0, 0, 0, 0], [0, 0, 0, 0, 0, 0, 0, 0, 0, 0], [0, 0, 0, 0, 0, 0, 0, 0, 0, 0], [0, 0, 0, 0, 0, 0, 0, 0, 0, 0], [0, 0, 0, 0, 0, 0, 0, 0, 0, 0], [0, 0, 0, 0, 0, 0, 0, 0, 0, 0], [0, 0, 0, 0, 0, 0, 0, 0, 0, 0], [0, 0, 0, 0, 0, 0, 0, 0, 0, 0], [0, 0, 0, 0, 0, 0, 0, 0, 0, 0], [0, 0, 0, 0, 0, 0, 0, 0, 0, 0], [0, 0, 0, 0, 0, 0, 0, 0, 0, 0], [0, 0, 0, 0, 0, 0, 0, 0, 0, 0], [0, 0, 0, 0, 0, 0, 0, 0, 0, 0]]\n",
      "-----\n",
      "20 1 1 1\n",
      "20 1 1 2\n",
      "20 1 1 3\n",
      "20 1 1 4\n",
      "20 1 1 5\n",
      "20 1 1 6\n",
      "20 1 1 7\n",
      "20 1 1 8\n",
      "20 1 1 9\n",
      "20 1 1 10\n",
      "1 1 1 1 1 1 1 1 1 1  \n",
      "1 1 1 1 1 1 1 1 1 1  \n",
      "1 1 1 1 1 1 1 1 1 1  \n",
      "1 1 1 1 1 1 1 1 1 1  \n",
      "1 1 1 1 1 1 1 1 1 1  \n",
      "1 1 1 1 1 1 1 1 1 1  \n",
      "1 1 1 1 1 1 1 1 1 1  \n",
      "1 1 1 1 1 1 1 1 1 1  \n",
      "1 1 1 1 1 1 1 1 1 1  \n",
      "1 1 1 1 1 1 1 1 1 1  \n",
      "1 1 1 1 1 1 1 1 1 1  \n",
      "1 1 1 1 1 1 1 1 1 1  \n",
      "1 1 1 1 1 1 1 1 1 1  \n",
      "1 1 1 1 1 1 1 1 1 1  \n",
      "1 1 1 1 1 1 1 1 1 1  \n",
      "1 1 1 1 1 1 1 1 1 1  \n",
      "1 1 1 1 1 1 1 1 1 1  \n",
      "1 1 1 1 1 1 1 1 1 1  \n",
      "1 1 1 1 1 1 1 1 1 1  \n",
      "1 1 1 1 1 1 1 1 1 1  \n"
     ]
    }
   ],
   "source": [
    "#97\n",
    "h, w = input().split()\n",
    "h = int(h)\n",
    "w = int(w)\n",
    "n = int(input())\n",
    "\n",
    "result = [[0 for i in range(w)] for j in range(h)]\n",
    "\n",
    "for i in range(n):\n",
    "    l, d, x, y = input().split()\n",
    "    l = int(l)\n",
    "    d = int(d)\n",
    "    x = int(x)\n",
    "    y = int(y)\n",
    "\n",
    "    if d==1:\n",
    "        for t in range(l): \n",
    "            result[x+(t-1)][y-1] = 1\n",
    "    else:\n",
    "         for t in range(l): \n",
    "            result[x-1][y+(t-1)] = 1\n",
    "            \n",
    "for i in range(len(result)):\n",
    "    for j in range(len(result[i])):\n",
    "        print(result[i][j], end=' ')\n",
    "    print(' ')    \n",
    "    \n",
    "    \n",
    "# 5 5\n",
    "# 1\n",
    "# 3 1 2 3\n",
    "# 0 0 0 0 0\n",
    "# 0 0 1 0 0\n",
    "# 0 0 1 0 0 \n",
    "# 0 0 1 0 0\n",
    "# 0 0 0 0 0\n",
    "\n",
    "# 0 0 0 0 0\n",
    "# 0 0 1 1 1\n",
    "# 0 0 0 0 0 \n",
    "# 0 0 0 0 0\n",
    "# 0 0 0 0 0\n",
    "\n"
   ]
  },
  {
   "cell_type": "code",
   "execution_count": 77,
   "metadata": {},
   "outputs": [
    {
     "name": "stdout",
     "output_type": "stream",
     "text": [
      "1 1 1 1 1 1 1 1 1 1\n",
      "1 0 0 1 0 0 0 0 0 1\n",
      "1 0 0 1 1 1 0 0 0 1\n",
      "1 0 0 0 0 0 0 1 0 1\n",
      "1 0 0 0 0 0 0 1 0 1\n",
      "1 0 0 0 0 1 0 1 0 1\n",
      "1 0 0 0 0 1 2 1 0 1\n",
      "1 0 0 0 0 1 0 0 0 1\n",
      "1 0 0 0 0 0 0 0 0 1\n",
      "1 1 1 1 1 1 1 1 1 1\n",
      "r: 1\n",
      "(r, c): ( 1 , 1 ) 0 0\n",
      "(r, c): ( 1 , 2 ) 0 1\n",
      "r: 2\n",
      "(r, c): ( 2 , 2 ) 0 1\n",
      "r: 3\n",
      "(r, c): ( 3 , 2 ) 0 0\n",
      "(r, c): ( 3 , 3 ) 0 0\n",
      "(r, c): ( 3 , 4 ) 0 0\n",
      "(r, c): ( 3 , 5 ) 0 0\n",
      "(r, c): ( 3 , 6 ) 0 1\n",
      "r: 4\n",
      "(r, c): ( 4 , 6 ) 0 1\n",
      "r: 5\n",
      "(r, c): ( 5 , 6 ) 0 1\n",
      "r: 6\n",
      "(r, c): ( 6 , 6 ) 2 1\n",
      "r: 7\n",
      "1 1 1 1 1 1 1 1 1 1  \n",
      "1 9 9 1 0 0 0 0 0 1  \n",
      "1 0 9 1 1 1 0 0 0 1  \n",
      "1 0 9 9 9 9 9 1 0 1  \n",
      "1 0 0 0 0 0 9 1 0 1  \n",
      "1 0 0 0 0 1 9 1 0 1  \n",
      "1 0 0 0 0 1 9 1 0 1  \n",
      "1 0 0 0 0 1 0 0 0 1  \n",
      "1 0 0 0 0 0 0 0 0 1  \n",
      "1 1 1 1 1 1 1 1 1 1  \n"
     ]
    }
   ],
   "source": [
    "#98\n",
    "size = 10\n",
    "d = []\n",
    "a, b = (1, 1) # stsart\n",
    "f = False\n",
    "for i in range(size):\n",
    "    d.append(list(map(int, input().split())))\n",
    "\n",
    "for r in range(a, size-1):     #row\n",
    "    if f:\n",
    "        break\n",
    "    \n",
    "    for c in range(b, size-1): #col\n",
    "        if d[r][c] == 0:\n",
    "            d[r][c] = 9\n",
    "\n",
    "            if d[r][c+1] == 1:\n",
    "                b = c\n",
    "                break\n",
    "\n",
    "        elif d[r][c] == 2:            \n",
    "            d[r][c] = 9    \n",
    "            f = True\n",
    "            break\n",
    "        \n",
    "\n",
    "for i in range(len(d)) :\n",
    "    for j in range(len(d[i])) :\n",
    "        print(d[i][j], end=' ')\n",
    "    print(' ')   \n",
    "    \n",
    "# 1 1 1 1\n",
    "# 1 0 0 1\n",
    "# 1 0 2 1\n",
    "# 1 1 1 1\n",
    "\n",
    "# 1 1 1 1\n",
    "# 1 9 9 1   (1,1), (1,2) (1,3)X, (2,2)\n",
    "# 1 0 2 1\n",
    "# 1 1 1 1"
   ]
  },
  {
   "cell_type": "code",
   "execution_count": null,
   "metadata": {},
   "outputs": [],
   "source": []
  },
  {
   "cell_type": "code",
   "execution_count": null,
   "metadata": {},
   "outputs": [],
   "source": []
  }
 ],
 "metadata": {
  "kernelspec": {
   "display_name": "Python 3",
   "language": "python",
   "name": "python3"
  },
  "language_info": {
   "codemirror_mode": {
    "name": "ipython",
    "version": 3
   },
   "file_extension": ".py",
   "mimetype": "text/x-python",
   "name": "python",
   "nbconvert_exporter": "python",
   "pygments_lexer": "ipython3",
   "version": "3.8.3"
  }
 },
 "nbformat": 4,
 "nbformat_minor": 4
}
